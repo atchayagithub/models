{
 "cells": [
  {
   "cell_type": "raw",
   "id": "588bb29e-4228-4d15-ae37-d612d9249274",
   "metadata": {},
   "source": [
    "Extract images from the video"
   ]
  },
  {
   "cell_type": "code",
   "execution_count": 1,
   "id": "ec72fec6-86e5-480b-9278-e8c9c309b5c2",
   "metadata": {},
   "outputs": [],
   "source": [
    "import cv2\n",
    "import os"
   ]
  },
  {
   "cell_type": "code",
   "execution_count": 2,
   "id": "69ba91ad-3fb4-4037-9182-a32c2299aa97",
   "metadata": {},
   "outputs": [],
   "source": [
    "VID_PATH = \"video1.mp4\""
   ]
  },
  {
   "cell_type": "code",
   "execution_count": 4,
   "id": "d0470940-8192-4baa-a768-5cd667f85fa8",
   "metadata": {},
   "outputs": [],
   "source": [
    "cap = cv2.VideoCapture(VID_PATH)"
   ]
  },
  {
   "cell_type": "code",
   "execution_count": 7,
   "id": "4d8b2319-db2d-4716-b7ee-ce043ace4f18",
   "metadata": {},
   "outputs": [],
   "source": [
    "output = \"frames\"\n",
    "os.makedirs(output, exist_ok = True)"
   ]
  },
  {
   "cell_type": "code",
   "execution_count": 8,
   "id": "45e145d7-1d4c-484d-99c7-cc6ca3ad1879",
   "metadata": {},
   "outputs": [],
   "source": [
    "frame_count = 1"
   ]
  },
  {
   "cell_type": "code",
   "execution_count": 10,
   "id": "1d579cd2-d234-46e6-a7a9-e4b8c22688bb",
   "metadata": {},
   "outputs": [],
   "source": [
    "while True:\n",
    "    ret, frame = cap.read()\n",
    "    if not ret:\n",
    "        break\n",
    "\n",
    "    frame_file = os.path.join(output, f\"frame_{frame_count:04d}.jpg\")\n",
    "    cv2.imwrite(frame_file, frame)\n",
    "\n",
    "    frame_count += 1"
   ]
  },
  {
   "cell_type": "code",
   "execution_count": null,
   "id": "70aea378-b514-46f1-94ed-db18cdce7818",
   "metadata": {},
   "outputs": [],
   "source": []
  }
 ],
 "metadata": {
  "kernelspec": {
   "display_name": "Python 3 (ipykernel)",
   "language": "python",
   "name": "python3"
  },
  "language_info": {
   "codemirror_mode": {
    "name": "ipython",
    "version": 3
   },
   "file_extension": ".py",
   "mimetype": "text/x-python",
   "name": "python",
   "nbconvert_exporter": "python",
   "pygments_lexer": "ipython3",
   "version": "3.10.11"
  }
 },
 "nbformat": 4,
 "nbformat_minor": 5
}
